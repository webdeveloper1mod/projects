{
 "cells": [
  {
   "cell_type": "code",
   "execution_count": 1,
   "id": "pregnant-banner",
   "metadata": {},
   "outputs": [],
   "source": [
    "from sklearn import metrics "
   ]
  },
  {
   "cell_type": "code",
   "execution_count": 2,
   "id": "lovely-addition",
   "metadata": {},
   "outputs": [],
   "source": [
    "C = 'Cat'\n",
    "D = 'Dog'\n",
    "F = 'Fox'"
   ]
  },
  {
   "cell_type": "code",
   "execution_count": 3,
   "id": "unsigned-revolution",
   "metadata": {},
   "outputs": [
    {
     "name": "stdout",
     "output_type": "stream",
     "text": [
      "[[4 1 1]\n",
      " [3 6 0]\n",
      " [6 2 2]]\n",
      "              precision    recall  f1-score   support\n",
      "\n",
      "         Cat      0.308     0.667     0.421         6\n",
      "         Dog      0.667     0.667     0.667         9\n",
      "         Fox      0.667     0.200     0.308        10\n",
      "\n",
      "   micro avg      0.480     0.480     0.480        25\n",
      "   macro avg      0.547     0.511     0.465        25\n",
      "weighted avg      0.581     0.480     0.464        25\n",
      "\n"
     ]
    }
   ],
   "source": [
    "#True Values \n",
    "y_true = [C,C,C,C,C,C,    F,F,F,F,F,F,F,F,F,F,      D,D,D,D,D,D,D,D,D]\n",
    "\n",
    "#PRedicted Values \n",
    "y_pred = [C,C,C,C,D,F,    C,C,C,C,C,C,D,D,F,F,      C,C,C,D,D,D,D,D,D]\n",
    "\n",
    "#Print the confusion matrix\n",
    "print(metrics.confusion_matrix(y_true, y_pred))\n",
    "\n",
    "#Print the precision and recall, among other metrices\n",
    "print(metrics.classification_report(y_true, y_pred, digits = 3))"
   ]
  },
  {
   "cell_type": "code",
   "execution_count": null,
   "id": "confidential-respondent",
   "metadata": {},
   "outputs": [],
   "source": []
  }
 ],
 "metadata": {
  "kernelspec": {
   "display_name": "Python 3.7 (tensorflow)",
   "language": "python",
   "name": "tensorflow"
  },
  "language_info": {
   "codemirror_mode": {
    "name": "ipython",
    "version": 3
   },
   "file_extension": ".py",
   "mimetype": "text/x-python",
   "name": "python",
   "nbconvert_exporter": "python",
   "pygments_lexer": "ipython3",
   "version": "3.7.10"
  }
 },
 "nbformat": 4,
 "nbformat_minor": 5
}
