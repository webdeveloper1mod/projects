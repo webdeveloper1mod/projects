{
 "cells": [
  {
   "cell_type": "code",
   "execution_count": 3,
   "id": "biblical-gender",
   "metadata": {},
   "outputs": [
    {
     "data": {
      "text/plain": [
       "(412, 499, 3)"
      ]
     },
     "execution_count": 3,
     "metadata": {},
     "output_type": "execute_result"
    }
   ],
   "source": [
    "from keras.preprocessing.image import ImageDataGenerator, array_to_img, img_to_array,load_img\n",
    "\n",
    "datagen = ImageDataGenerator(\n",
    "         rotation_range = 40,\n",
    "         width_shift_range = 0.2,\n",
    "         height_shift_range = 0.2,\n",
    "         shear_range = 0.2,\n",
    "         zoom_range = 0.2,\n",
    "         horizontal_flip = True,\n",
    "         fill_mode = 'nearest')\n",
    "\n",
    "img = load_img('cat.3318.jpg')\n",
    "x = img_to_array(img)\n",
    "x.shape"
   ]
  },
  {
   "cell_type": "code",
   "execution_count": 4,
   "id": "designing-compensation",
   "metadata": {},
   "outputs": [
    {
     "data": {
      "text/plain": [
       "(1, 412, 499, 3)"
      ]
     },
     "execution_count": 4,
     "metadata": {},
     "output_type": "execute_result"
    }
   ],
   "source": [
    "x = x.reshape((1,) + x.shape)\n",
    "x.shape"
   ]
  },
  {
   "cell_type": "code",
   "execution_count": null,
   "id": "spread-accent",
   "metadata": {},
   "outputs": [],
   "source": [
    "x = x.reshape((1,) + x.shape)\n",
    "\n",
    "\n",
    "\n",
    "i = 0\n",
    "for batch in datagen.flow(x, batch_size = 1, save_to_dir='preview' ,save_prefix = 'cat', save_format='jpeg'):\n",
    "\n",
    "    i += 1  \n",
    "    if i > 20:\n",
    "        break"
   ]
  },
  {
   "cell_type": "code",
   "execution_count": null,
   "id": "similar-operations",
   "metadata": {},
   "outputs": [],
   "source": []
  }
 ],
 "metadata": {
  "kernelspec": {
   "display_name": "Python 3.7 (tensorflow)",
   "language": "python",
   "name": "tensorflow"
  },
  "language_info": {
   "codemirror_mode": {
    "name": "ipython",
    "version": 3
   },
   "file_extension": ".py",
   "mimetype": "text/x-python",
   "name": "python",
   "nbconvert_exporter": "python",
   "pygments_lexer": "ipython3",
   "version": "3.7.10"
  }
 },
 "nbformat": 4,
 "nbformat_minor": 5
}
