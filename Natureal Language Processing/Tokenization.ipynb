{
 "cells": [
  {
   "cell_type": "code",
   "execution_count": 5,
   "id": "sweet-reader",
   "metadata": {},
   "outputs": [],
   "source": [
    "import nltk\n",
    "import warnings"
   ]
  },
  {
   "cell_type": "code",
   "execution_count": 6,
   "id": "annual-utilization",
   "metadata": {},
   "outputs": [],
   "source": [
    "paragraph =\"\"\"I first met Dean not long after my wife and I split up. \n",
    "I had just gotten over a serious illness that I won’t bother to talk about, \n",
    "except that it had something to do with the miserably weary split-up and my\n",
    "feeling that everything was dead. With the coming of Dean Moriarty began the part \n",
    "of my life you could call my life on the road. Before that I’d often dreamed of \n",
    "going West to see the country, always vaguely planning and never taking off. \n",
    "Dean is the perfect guy for the road because he actually was born on the road,\n",
    "when his parents were passing through Salt Lake City in 1926, in a jalopy, on \n",
    "their way to Los Angeles. First reports of him came to me through Chad King,\n",
    "who’d shown me a few letters from him written in a New Mexico reform school. \n",
    "I was tremendously interested in the letters because they so naively and sweetly \n",
    "asked Chad to teach him all about Nietzsche and all the wonderful intellectual \n",
    "things that Chad knew. At one point Carlo and I talked about the letters and wondered\n",
    "if we would ever meet the strange Dean Moriarty. This is all far back, when Dean was\n",
    "not the way he is today, when he was a young jailkid shrouded in mystery. Then news\n",
    "came that Dean was out of reform school and was coming to New York for the first time; \n",
    "also there was talk that he had just married a girl called Marylou.\"\"\""
   ]
  },
  {
   "cell_type": "code",
   "execution_count": 7,
   "id": "dynamic-amber",
   "metadata": {},
   "outputs": [],
   "source": [
    "#Tokenizing sentences\n",
    "sentences = nltk.sent_tokenize(paragraph)"
   ]
  },
  {
   "cell_type": "code",
   "execution_count": 8,
   "id": "infinite-couple",
   "metadata": {},
   "outputs": [],
   "source": [
    "#Tokenizing words\n",
    "words = nltk.word_tokenize(paragraph)"
   ]
  },
  {
   "cell_type": "code",
   "execution_count": 9,
   "id": "moral-compensation",
   "metadata": {},
   "outputs": [
    {
     "data": {
      "text/plain": [
       "['I first met Dean not long after my wife and I split up.',\n",
       " 'I had just gotten over a serious illness that I won’t bother to talk about, \\nexcept that it had something to do with the miserably weary split-up and my\\nfeeling that everything was dead.',\n",
       " 'With the coming of Dean Moriarty began the part \\nof my life you could call my life on the road.',\n",
       " 'Before that I’d often dreamed of \\ngoing West to see the country, always vaguely planning and never taking off.',\n",
       " 'Dean is the perfect guy for the road because he actually was born on the road,\\nwhen his parents were passing through Salt Lake City in 1926, in a jalopy, on \\ntheir way to Los Angeles.',\n",
       " 'First reports of him came to me through Chad King,\\nwho’d shown me a few letters from him written in a New Mexico reform school.',\n",
       " 'I was tremendously interested in the letters because they so naively and sweetly \\nasked Chad to teach him all about Nietzsche and all the wonderful intellectual \\nthings that Chad knew.',\n",
       " 'At one point Carlo and I talked about the letters and wondered\\nif we would ever meet the strange Dean Moriarty.',\n",
       " 'This is all far back, when Dean was\\nnot the way he is today, when he was a young jailkid shrouded in mystery.',\n",
       " 'Then news\\ncame that Dean was out of reform school and was coming to New York for the first time; \\nalso there was talk that he had just married a girl called Marylou.']"
      ]
     },
     "execution_count": 9,
     "metadata": {},
     "output_type": "execute_result"
    }
   ],
   "source": [
    "sentences"
   ]
  },
  {
   "cell_type": "code",
   "execution_count": 12,
   "id": "potential-blake",
   "metadata": {},
   "outputs": [
    {
     "data": {
      "text/plain": [
       "279"
      ]
     },
     "execution_count": 12,
     "metadata": {},
     "output_type": "execute_result"
    }
   ],
   "source": [
    "len(words)"
   ]
  },
  {
   "cell_type": "code",
   "execution_count": null,
   "id": "dangerous-christmas",
   "metadata": {},
   "outputs": [],
   "source": []
  }
 ],
 "metadata": {
  "kernelspec": {
   "display_name": "Python 3.7 (tensorflow)",
   "language": "python",
   "name": "tensorflow"
  },
  "language_info": {
   "codemirror_mode": {
    "name": "ipython",
    "version": 3
   },
   "file_extension": ".py",
   "mimetype": "text/x-python",
   "name": "python",
   "nbconvert_exporter": "python",
   "pygments_lexer": "ipython3",
   "version": "3.7.10"
  }
 },
 "nbformat": 4,
 "nbformat_minor": 5
}
