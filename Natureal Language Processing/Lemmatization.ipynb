{
 "cells": [
  {
   "cell_type": "code",
   "execution_count": 2,
   "id": "engaging-oxide",
   "metadata": {},
   "outputs": [],
   "source": [
    "import nltk\n",
    "from nltk.stem import WordNetLemmatizer\n",
    "from nltk.corpus import stopwords\n",
    "import warnings "
   ]
  },
  {
   "cell_type": "code",
   "execution_count": 3,
   "id": "driving-crowd",
   "metadata": {},
   "outputs": [],
   "source": [
    "paragraph =\"\"\"I first met Dean not long after my wife and I split up. \n",
    "I had just gotten over a serious illness that I won’t bother to talk about, \n",
    "except that it had something to do with the miserably weary split-up and my\n",
    "feeling that everything was dead. With the coming of Dean Moriarty began the part \n",
    "of my life you could call my life on the road. Before that I’d often dreamed of \n",
    "going West to see the country, always vaguely planning and never taking off. \n",
    "Dean is the perfect guy for the road because he actually was born on the road,\n",
    "when his parents were passing through Salt Lake City in 1926, in a jalopy, on \n",
    "their way to Los Angeles. First reports of him came to me through Chad King,\n",
    "who’d shown me a few letters from him written in a New Mexico reform school. \n",
    "I was tremendously interested in the letters because they so naively and sweetly \n",
    "asked Chad to teach him all about Nietzsche and all the wonderful intellectual \n",
    "things that Chad knew. At one point Carlo and I talked about the letters and wondered\n",
    "if we would ever meet the strange Dean Moriarty. This is all far back, when Dean was\n",
    "not the way he is today, when he was a young jailkid shrouded in mystery. Then news\n",
    "came that Dean was out of reform school and was coming to New York for the first time; \n",
    "also there was talk that he had just married a girl called Marylou.\"\"\""
   ]
  },
  {
   "cell_type": "code",
   "execution_count": 4,
   "id": "spare-missouri",
   "metadata": {},
   "outputs": [],
   "source": [
    "sentences = nltk.sent_tokenize(paragraph)\n",
    "lemmatizer = WordNetLemmatizer()"
   ]
  },
  {
   "cell_type": "code",
   "execution_count": 13,
   "id": "charitable-wagner",
   "metadata": {},
   "outputs": [
    {
     "data": {
      "text/plain": [
       "['I first met Dean long wife I split .',\n",
       " 'I gotten serious illness I ’ bother talk , except something miserably weary split-up feeling everything dead .',\n",
       " 'With coming Dean Moriarty began part life could call life road .',\n",
       " 'Before I ’ often dreamed going West see country , always vaguely planning never taking .',\n",
       " 'Dean perfect guy road actually born road , parent passing Salt Lake City 1926 , jalopy , way Los Angeles .',\n",
       " 'First report came Chad King , ’ shown letter written New Mexico reform school .',\n",
       " 'I tremendously interested letter naively sweetly asked Chad teach Nietzsche wonderful intellectual thing Chad knew .',\n",
       " 'At one point Carlo I talked letter wondered would ever meet strange Dean Moriarty .',\n",
       " 'This far back , Dean way today , young jailkid shrouded mystery .',\n",
       " 'Then news came Dean reform school coming New York first time ; also talk married girl called Marylou .']"
      ]
     },
     "execution_count": 13,
     "metadata": {},
     "output_type": "execute_result"
    }
   ],
   "source": [
    "sentences"
   ]
  },
  {
   "cell_type": "code",
   "execution_count": 24,
   "id": "physical-update",
   "metadata": {},
   "outputs": [],
   "source": [
    "#Lemmatization"
   ]
  },
  {
   "cell_type": "code",
   "execution_count": 20,
   "id": "unlike-medicare",
   "metadata": {},
   "outputs": [],
   "source": [
    "for i in range(len(sentences)):\n",
    "    words = nltk.word_tokenize(sentences[i])\n",
    "    words = [lemmatizer.lemmatize(word) for word in words if word not in set(stopwords.words(\"english\"))]\n",
    "    sentences[i]= ' '.join(words)"
   ]
  },
  {
   "cell_type": "code",
   "execution_count": 23,
   "id": "educational-touch",
   "metadata": {},
   "outputs": [
    {
     "data": {
      "text/plain": [
       "['I first met Dean long wife I split .',\n",
       " 'I gotten serious illness I ’ bother talk , except something miserably weary split-up feeling everything dead .',\n",
       " 'With coming Dean Moriarty began part life could call life road .',\n",
       " 'Before I ’ often dreamed going West see country , always vaguely planning never taking .',\n",
       " 'Dean perfect guy road actually born road , parent passing Salt Lake City 1926 , jalopy , way Los Angeles .',\n",
       " 'First report came Chad King , ’ shown letter written New Mexico reform school .',\n",
       " 'I tremendously interested letter naively sweetly asked Chad teach Nietzsche wonderful intellectual thing Chad knew .',\n",
       " 'At one point Carlo I talked letter wondered would ever meet strange Dean Moriarty .',\n",
       " 'This far back , Dean way today , young jailkid shrouded mystery .',\n",
       " 'Then news came Dean reform school coming New York first time ; also talk married girl called Marylou .']"
      ]
     },
     "execution_count": 23,
     "metadata": {},
     "output_type": "execute_result"
    }
   ],
   "source": [
    " sentences"
   ]
  },
  {
   "cell_type": "code",
   "execution_count": null,
   "id": "heated-happiness",
   "metadata": {},
   "outputs": [],
   "source": []
  },
  {
   "cell_type": "code",
   "execution_count": null,
   "id": "spanish-train",
   "metadata": {},
   "outputs": [],
   "source": []
  },
  {
   "cell_type": "code",
   "execution_count": null,
   "id": "global-midnight",
   "metadata": {},
   "outputs": [],
   "source": []
  }
 ],
 "metadata": {
  "kernelspec": {
   "display_name": "Python 3.7 (tensorflow)",
   "language": "python",
   "name": "tensorflow"
  },
  "language_info": {
   "codemirror_mode": {
    "name": "ipython",
    "version": 3
   },
   "file_extension": ".py",
   "mimetype": "text/x-python",
   "name": "python",
   "nbconvert_exporter": "python",
   "pygments_lexer": "ipython3",
   "version": "3.7.10"
  }
 },
 "nbformat": 4,
 "nbformat_minor": 5
}
