{
 "cells": [
  {
   "cell_type": "code",
   "execution_count": 3,
   "id": "convinced-triple",
   "metadata": {},
   "outputs": [],
   "source": [
    "import nltk\n",
    "from nltk.stem import PorterStemmer\n",
    "from nltk.corpus import stopwords\n",
    "import warnings "
   ]
  },
  {
   "cell_type": "code",
   "execution_count": 2,
   "id": "taken-restriction",
   "metadata": {},
   "outputs": [],
   "source": [
    "paragraph =\"\"\"I first met Dean not long after my wife and I split up. \n",
    "I had just gotten over a serious illness that I won’t bother to talk about, \n",
    "except that it had something to do with the miserably weary split-up and my\n",
    "feeling that everything was dead. With the coming of Dean Moriarty began the part \n",
    "of my life you could call my life on the road. Before that I’d often dreamed of \n",
    "going West to see the country, always vaguely planning and never taking off. \n",
    "Dean is the perfect guy for the road because he actually was born on the road,\n",
    "when his parents were passing through Salt Lake City in 1926, in a jalopy, on \n",
    "their way to Los Angeles. First reports of him came to me through Chad King,\n",
    "who’d shown me a few letters from him written in a New Mexico reform school. \n",
    "I was tremendously interested in the letters because they so naively and sweetly \n",
    "asked Chad to teach him all about Nietzsche and all the wonderful intellectual \n",
    "things that Chad knew. At one point Carlo and I talked about the letters and wondered\n",
    "if we would ever meet the strange Dean Moriarty. This is all far back, when Dean was\n",
    "not the way he is today, when he was a young jailkid shrouded in mystery. Then news\n",
    "came that Dean was out of reform school and was coming to New York for the first time; \n",
    "also there was talk that he had just married a girl called Marylou.\"\"\""
   ]
  },
  {
   "cell_type": "code",
   "execution_count": 3,
   "id": "broke-infrastructure",
   "metadata": {},
   "outputs": [],
   "source": [
    "sentences = nltk.sent_tokenize(paragraph)\n",
    "stemmer = PorterStemmer()"
   ]
  },
  {
   "cell_type": "code",
   "execution_count": 4,
   "id": "specified-placement",
   "metadata": {},
   "outputs": [
    {
     "data": {
      "text/plain": [
       "['I first met Dean not long after my wife and I split up.',\n",
       " 'I had just gotten over a serious illness that I won’t bother to talk about, \\nexcept that it had something to do with the miserably weary split-up and my\\nfeeling that everything was dead.',\n",
       " 'With the coming of Dean Moriarty began the part \\nof my life you could call my life on the road.',\n",
       " 'Before that I’d often dreamed of \\ngoing West to see the country, always vaguely planning and never taking off.',\n",
       " 'Dean is the perfect guy for the road because he actually was born on the road,\\nwhen his parents were passing through Salt Lake City in 1926, in a jalopy, on \\ntheir way to Los Angeles.',\n",
       " 'First reports of him came to me through Chad King,\\nwho’d shown me a few letters from him written in a New Mexico reform school.',\n",
       " 'I was tremendously interested in the letters because they so naively and sweetly \\nasked Chad to teach him all about Nietzsche and all the wonderful intellectual \\nthings that Chad knew.',\n",
       " 'At one point Carlo and I talked about the letters and wondered\\nif we would ever meet the strange Dean Moriarty.',\n",
       " 'This is all far back, when Dean was\\nnot the way he is today, when he was a young jailkid shrouded in mystery.',\n",
       " 'Then news\\ncame that Dean was out of reform school and was coming to New York for the first time; \\nalso there was talk that he had just married a girl called Marylou.']"
      ]
     },
     "execution_count": 4,
     "metadata": {},
     "output_type": "execute_result"
    }
   ],
   "source": [
    "sentences"
   ]
  },
  {
   "cell_type": "code",
   "execution_count": 13,
   "id": "extended-convert",
   "metadata": {},
   "outputs": [],
   "source": [
    "# Stemming\n",
    "for i in range(len(sentences)):\n",
    "    words = nltk.word_tokenize(sentences[i])\n",
    "    words = [stemmer.stem(word) for word in words if word not in set(stopwords.words('english'))]\n",
    "    sentences[i] = ' '.join(words)"
   ]
  },
  {
   "cell_type": "code",
   "execution_count": 14,
   "id": "clear-provision",
   "metadata": {},
   "outputs": [
    {
     "data": {
      "text/plain": [
       "['first met dean long wife split .',\n",
       " 'gotten seriou ill ’ bother talk , except someth miser weari split-up feel everyth dead .',\n",
       " 'come dean moriarti began part life could call life road .',\n",
       " 'befor ’ often dream go west see countri , alway vagu plan never take .',\n",
       " 'dean perfect guy road actual born road , parent pass salt lake citi 1926 , jalopi , way lo angel .',\n",
       " 'first report came chad king , ’ shown letter written new mexico reform school .',\n",
       " 'tremend interest letter naiv sweetli ask chad teach nietzsch wonder intellectu thing chad knew .',\n",
       " 'one point carlo talk letter wonder would ever meet strang dean moriarti .',\n",
       " 'thi far back , dean way today , young jailkid shroud mysteri .',\n",
       " 'news came dean reform school come new york first time ; also talk marri girl call maryl .']"
      ]
     },
     "execution_count": 14,
     "metadata": {},
     "output_type": "execute_result"
    }
   ],
   "source": [
    "sentences"
   ]
  },
  {
   "cell_type": "code",
   "execution_count": 4,
   "id": "usual-incident",
   "metadata": {},
   "outputs": [],
   "source": []
  },
  {
   "cell_type": "code",
   "execution_count": null,
   "id": "respective-rebel",
   "metadata": {},
   "outputs": [],
   "source": []
  },
  {
   "cell_type": "code",
   "execution_count": null,
   "id": "union-huntington",
   "metadata": {},
   "outputs": [],
   "source": []
  }
 ],
 "metadata": {
  "kernelspec": {
   "display_name": "Python 3.7 (tensorflow)",
   "language": "python",
   "name": "tensorflow"
  },
  "language_info": {
   "codemirror_mode": {
    "name": "ipython",
    "version": 3
   },
   "file_extension": ".py",
   "mimetype": "text/x-python",
   "name": "python",
   "nbconvert_exporter": "python",
   "pygments_lexer": "ipython3",
   "version": "3.7.10"
  }
 },
 "nbformat": 4,
 "nbformat_minor": 5
}
