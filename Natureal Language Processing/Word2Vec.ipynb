{
 "cells": [
  {
   "cell_type": "code",
   "execution_count": 42,
   "id": "heated-theory",
   "metadata": {},
   "outputs": [],
   "source": [
    "import nltk\n",
    "\n",
    "from gensim.models import Word2Vec\n",
    "from nltk.corpus import stopwords\n",
    "\n",
    "import re"
   ]
  },
  {
   "cell_type": "code",
   "execution_count": 43,
   "id": "hydraulic-arbitration",
   "metadata": {},
   "outputs": [],
   "source": [
    "paragraph =\"\"\"I first met Dean not long after my wife and I split up. \n",
    "I had just gotten over a serious illness that I won’t bother to talk about, \n",
    "except that it had something to do with the miserably weary split-up and my\n",
    "feeling that everything was dead. With the coming of Dean Moriarty began the part \n",
    "of my life you could call my life on the road. Before that I’d often dreamed of \n",
    "going West to see the country, always vaguely planning and never taking off. \n",
    "Dean is the perfect guy for the road because he actually was born on the road,\n",
    "when his parents were passing through Salt Lake City in 1926, in a jalopy, on \n",
    "their way to Los Angeles. First reports of him came to me through Chad King,\n",
    "who’d shown me a few letters from him written in a New Mexico reform school. \n",
    "I was tremendously interested in the letters because they so naively and sweetly \n",
    "asked chad to teach him all about Nietzsche and all the wonderful intellectual \n",
    "things that Chad knew. At one point Carlo and I talked about the letters and wondered\n",
    "if we would ever meet the strange Dean Moriarty. This is all far back, when Dean was\n",
    "not the way he is today, when he was a young jailkid shrouded in mystery. Then news\n",
    "came that Dean was out of reform school and was coming to New York for the first time; \n",
    "also there was talk that he had just married a girl called Marylou.\"\"\""
   ]
  },
  {
   "cell_type": "code",
   "execution_count": 44,
   "id": "treated-joint",
   "metadata": {},
   "outputs": [],
   "source": [
    "text = re.sub('[^a-zA-Z]', ' ', paragraph)\n",
    "text = text.lower()"
   ]
  },
  {
   "cell_type": "code",
   "execution_count": 45,
   "id": "bibliographic-courage",
   "metadata": {},
   "outputs": [],
   "source": [
    "sentences = nltk.sent_tokenize(text)\n",
    "\n",
    "sentences = [nltk.word_tokenize(sentence) for sentence in sentences]"
   ]
  },
  {
   "cell_type": "code",
   "execution_count": 46,
   "id": "moral-approval",
   "metadata": {},
   "outputs": [],
   "source": [
    "for i in range(len(sentences)):\n",
    "    sentences[i] = [word for word in sentences[i] if word not in stopwords.words('english')]"
   ]
  },
  {
   "cell_type": "code",
   "execution_count": 47,
   "id": "binding-halifax",
   "metadata": {},
   "outputs": [],
   "source": [
    "# Training the Word2Cev model\n",
    "model = Word2Vec(sentences, min_count = 1)\n",
    "words = model.wv.key_to_index "
   ]
  },
  {
   "cell_type": "code",
   "execution_count": 50,
   "id": "nearby-wagon",
   "metadata": {},
   "outputs": [
    {
     "data": {
      "text/plain": [
       "array([-8.2413806e-03,  9.3045048e-03, -2.0035464e-04, -1.9658438e-03,\n",
       "        4.6173083e-03, -4.1075167e-03,  2.7596657e-03,  6.9579417e-03,\n",
       "        6.0657165e-03, -7.5182915e-03,  9.3762744e-03,  4.6449616e-03,\n",
       "        3.9807241e-03, -6.2305280e-03,  8.4713921e-03, -2.1596237e-03,\n",
       "        8.8112652e-03, -5.3592864e-03, -8.1264833e-03,  6.8088653e-03,\n",
       "        1.6888272e-03, -2.1916993e-03,  9.5209125e-03,  9.4985543e-03,\n",
       "       -9.7761834e-03,  2.4984512e-03,  6.1625638e-03,  3.8577786e-03,\n",
       "        2.0112866e-03,  4.3335225e-04,  6.8098825e-04, -3.8283714e-03,\n",
       "       -7.1263821e-03, -2.1099772e-03,  3.9164866e-03,  8.8437563e-03,\n",
       "        9.2547303e-03, -5.9671961e-03, -9.3866391e-03,  9.7392900e-03,\n",
       "        3.4380271e-03,  5.1522632e-03,  6.2911920e-03, -2.8010884e-03,\n",
       "        7.3433784e-03,  2.8286737e-03,  2.8536418e-03, -2.3799133e-03,\n",
       "       -3.1133422e-03, -2.3841416e-03,  4.2799278e-03,  7.7700046e-05,\n",
       "       -9.5653273e-03, -9.6843839e-03, -6.1433450e-03, -1.2157867e-04,\n",
       "        1.9920513e-03,  9.4325785e-03,  5.5722576e-03, -4.2856052e-03,\n",
       "        2.8284619e-04,  4.9664630e-03,  7.7028130e-03, -1.1375230e-03,\n",
       "        4.3196785e-03, -5.8079329e-03, -8.1230019e-04,  8.1189619e-03,\n",
       "       -2.3629775e-03, -9.6504819e-03,  5.7809502e-03, -3.9285189e-03,\n",
       "       -1.2163095e-03,  9.9914288e-03, -2.2290396e-03, -4.7498741e-03,\n",
       "       -5.3304392e-03,  6.9766860e-03, -5.7022111e-03,  2.1088512e-03,\n",
       "       -5.2620964e-03,  6.1097294e-03,  4.3428564e-03,  2.6080322e-03,\n",
       "       -1.4942189e-03, -2.7430579e-03,  9.0095336e-03,  5.2139335e-03,\n",
       "       -2.1381674e-03, -9.4589163e-03, -7.4124238e-03, -1.0617021e-03,\n",
       "       -7.8114390e-04, -2.5759295e-03,  9.6972613e-03, -4.4995293e-04,\n",
       "        5.8608362e-03, -7.4605625e-03, -2.4959028e-03, -5.5649457e-03],\n",
       "      dtype=float32)"
      ]
     },
     "execution_count": 50,
     "metadata": {},
     "output_type": "execute_result"
    }
   ],
   "source": [
    "#finding Word Vectors\n",
    "vector = model.wv['chad']\n",
    "vector"
   ]
  },
  {
   "cell_type": "code",
   "execution_count": 60,
   "id": "ongoing-signature",
   "metadata": {},
   "outputs": [],
   "source": [
    "similar = model.wv.most_similar('way')"
   ]
  },
  {
   "cell_type": "code",
   "execution_count": 61,
   "id": "spare-america",
   "metadata": {},
   "outputs": [
    {
     "data": {
      "text/plain": [
       "[('teach', 0.26222026348114014),\n",
       " ('part', 0.24686847627162933),\n",
       " ('interested', 0.19569829106330872),\n",
       " ('gotten', 0.18998152017593384),\n",
       " ('reports', 0.18824663758277893),\n",
       " ('meet', 0.18381184339523315),\n",
       " ('chad', 0.1782997101545334),\n",
       " ('dreamed', 0.17128729820251465),\n",
       " ('time', 0.17103156447410583),\n",
       " ('king', 0.16255764663219452)]"
      ]
     },
     "execution_count": 61,
     "metadata": {},
     "output_type": "execute_result"
    }
   ],
   "source": [
    "similar"
   ]
  },
  {
   "cell_type": "code",
   "execution_count": null,
   "id": "smaller-prize",
   "metadata": {},
   "outputs": [],
   "source": []
  }
 ],
 "metadata": {
  "kernelspec": {
   "display_name": "Python 3.7 (tensorflow)",
   "language": "python",
   "name": "tensorflow"
  },
  "language_info": {
   "codemirror_mode": {
    "name": "ipython",
    "version": 3
   },
   "file_extension": ".py",
   "mimetype": "text/x-python",
   "name": "python",
   "nbconvert_exporter": "python",
   "pygments_lexer": "ipython3",
   "version": "3.7.10"
  }
 },
 "nbformat": 4,
 "nbformat_minor": 5
}
